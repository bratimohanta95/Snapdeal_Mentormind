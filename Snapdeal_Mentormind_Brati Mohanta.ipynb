{
 "cells": [
  {
   "cell_type": "markdown",
   "id": "b6e6fa12-47af-4195-b40f-ad7c2e8259c2",
   "metadata": {},
   "source": [
    "## Importing all important libraries"
   ]
  },
  {
   "cell_type": "code",
   "execution_count": 70,
   "id": "bead3ac2-5c75-49de-8788-a663ca640b60",
   "metadata": {},
   "outputs": [],
   "source": [
    "import pandas as pd\n",
    "import numpy as np\n",
    "import matplotlib as plt\n",
    "import seaborn as sns\n",
    "from sklearn.preprocessing import StandardScaler, LabelEncoder\n",
    "import warnings\n",
    "warnings.filterwarnings(\"ignore\")"
   ]
  },
  {
   "cell_type": "markdown",
   "id": "e695b309-e3e4-49b7-a87e-fda02b94bfcd",
   "metadata": {},
   "source": [
    "## Load the Data"
   ]
  },
  {
   "cell_type": "code",
   "execution_count": 72,
   "id": "453287ba-2850-4ca9-b30e-24e4559158a9",
   "metadata": {},
   "outputs": [],
   "source": [
    "##loading the given data\n",
    "Snapdeal_data = pd.read_csv(r\"C:\\Users\\DELL\\Documents\\Snapdeal Mentormind\\Online_Retail.csv\", encoding=\"latin1\")"
   ]
  },
  {
   "cell_type": "markdown",
   "id": "9ca40248-0d52-4e08-8be2-f3c6eb01d42a",
   "metadata": {},
   "source": [
    "## Understand the Data"
   ]
  },
  {
   "cell_type": "code",
   "execution_count": 74,
   "id": "a7ae0411-8b40-4664-82a5-d34f9a35b362",
   "metadata": {},
   "outputs": [
    {
     "name": "stdout",
     "output_type": "stream",
     "text": [
      "🔹 First 5 rows of data:\n",
      "  InvoiceNo StockCode                         Description  Quantity  \\\n",
      "0    536365    85123A  WHITE HANGING HEART T-LIGHT HOLDER         6   \n",
      "1    536365     71053                 WHITE METAL LANTERN         6   \n",
      "2    536365    84406B      CREAM CUPID HEARTS COAT HANGER         8   \n",
      "\n",
      "        InvoiceDate  UnitPrice  CustomerID         Country  \n",
      "0  01-12-2010 08:26       2.55     17850.0  United Kingdom  \n",
      "1  01-12-2010 08:26       3.39     17850.0  United Kingdom  \n",
      "2  01-12-2010 08:26       2.75     17850.0  United Kingdom  \n",
      "\n",
      "🔹 Dataset Info:\n",
      "<class 'pandas.core.frame.DataFrame'>\n",
      "RangeIndex: 541909 entries, 0 to 541908\n",
      "Data columns (total 8 columns):\n",
      " #   Column       Non-Null Count   Dtype  \n",
      "---  ------       --------------   -----  \n",
      " 0   InvoiceNo    541909 non-null  object \n",
      " 1   StockCode    541909 non-null  object \n",
      " 2   Description  540455 non-null  object \n",
      " 3   Quantity     541909 non-null  int64  \n",
      " 4   InvoiceDate  541909 non-null  object \n",
      " 5   UnitPrice    541909 non-null  float64\n",
      " 6   CustomerID   406829 non-null  float64\n",
      " 7   Country      541909 non-null  object \n",
      "dtypes: float64(2), int64(1), object(5)\n",
      "memory usage: 33.1+ MB\n",
      "None\n",
      "\n",
      "🔹 Statistical Summary:\n",
      "            Quantity      UnitPrice     CustomerID\n",
      "count  541909.000000  541909.000000  406829.000000\n",
      "mean        9.552250       4.611114   15287.690570\n",
      "std       218.081158      96.759853    1713.600303\n",
      "min    -80995.000000  -11062.060000   12346.000000\n",
      "25%         1.000000       1.250000   13953.000000\n",
      "50%         3.000000       2.080000   15152.000000\n",
      "75%        10.000000       4.130000   16791.000000\n",
      "max     80995.000000   38970.000000   18287.000000\n"
     ]
    }
   ],
   "source": [
    "##understanding the basic information about the data\n",
    "print(\"🔹 First 5 rows of data:\")\n",
    "print(Snapdeal_data.head(3))\n",
    "\n",
    "print(\"\\n🔹 Dataset Info:\")\n",
    "print(Snapdeal_data.info())\n",
    "\n",
    "print(\"\\n🔹 Statistical Summary:\")\n",
    "print(Snapdeal_data.describe())"
   ]
  },
  {
   "cell_type": "markdown",
   "id": "8304e757-4b80-434d-9550-6dada18a3947",
   "metadata": {},
   "source": [
    "## Checking Missing Values"
   ]
  },
  {
   "cell_type": "code",
   "execution_count": 76,
   "id": "5b6abb5a-58c0-416b-b7d8-3438868e2325",
   "metadata": {},
   "outputs": [
    {
     "name": "stdout",
     "output_type": "stream",
     "text": [
      "InvoiceNo           0\n",
      "StockCode           0\n",
      "Description      1454\n",
      "Quantity            0\n",
      "InvoiceDate         0\n",
      "UnitPrice           0\n",
      "CustomerID     135080\n",
      "Country             0\n",
      "dtype: int64\n",
      "InvoiceNo       0.00\n",
      "StockCode       0.00\n",
      "Description     0.27\n",
      "Quantity        0.00\n",
      "InvoiceDate     0.00\n",
      "UnitPrice       0.00\n",
      "CustomerID     24.93\n",
      "Country         0.00\n",
      "dtype: float64\n"
     ]
    }
   ],
   "source": [
    "##checking missing values\n",
    "# Count total missing values per column\n",
    "print(Snapdeal_data.isnull().sum())\n",
    "\n",
    "# Percentage of missing values per column\n",
    "print((Snapdeal_data.isnull().mean() * 100).round(2))\n"
   ]
  },
  {
   "cell_type": "markdown",
   "id": "ff2f8e9f-5981-4e91-9631-db6abb23f626",
   "metadata": {},
   "source": [
    "## Handling Missing Values"
   ]
  },
  {
   "cell_type": "code",
   "execution_count": 78,
   "id": "39ebe017-db81-4d04-9c08-a44af73cf4a5",
   "metadata": {},
   "outputs": [],
   "source": [
    "## Handle missing values\n",
    "# Drop rows where all values are missing\n",
    "Snapdeal_data.dropna(how=\"all\", inplace=True)"
   ]
  },
  {
   "cell_type": "markdown",
   "id": "f5e62e40-1535-4b7f-ab32-2eb0c0c76b15",
   "metadata": {},
   "source": [
    "## Clean the data"
   ]
  },
  {
   "cell_type": "code",
   "execution_count": 80,
   "id": "69963b18-ddaa-49d6-81d9-c7a5c2046299",
   "metadata": {},
   "outputs": [
    {
     "name": "stdout",
     "output_type": "stream",
     "text": [
      "\n",
      "✅ Cleaning Done. Updated Info:\n",
      "<class 'pandas.core.frame.DataFrame'>\n",
      "Index: 536641 entries, 0 to 541908\n",
      "Data columns (total 8 columns):\n",
      " #   Column       Non-Null Count   Dtype         \n",
      "---  ------       --------------   -----         \n",
      " 0   InvoiceNo    536641 non-null  object        \n",
      " 1   StockCode    536641 non-null  object        \n",
      " 2   Description  535187 non-null  object        \n",
      " 3   Quantity     536641 non-null  int64         \n",
      " 4   InvoiceDate  230656 non-null  datetime64[ns]\n",
      " 5   UnitPrice    536641 non-null  float64       \n",
      " 6   CustomerID   536641 non-null  object        \n",
      " 7   Country      536641 non-null  object        \n",
      "dtypes: datetime64[ns](1), float64(1), int64(1), object(5)\n",
      "memory usage: 36.8+ MB\n",
      "None\n"
     ]
    }
   ],
   "source": [
    "if \"CustomerID\" in Snapdeal_data.columns:\n",
    "    Snapdeal_data[\"CustomerID\"].fillna(\"Unknown\", inplace=True)\n",
    "\n",
    "# Example: Fill missing numerical values with median\n",
    "for col in Snapdeal_data.select_dtypes(include=[np.number]).columns:\n",
    "    Snapdeal_data[col].fillna(Snapdeal_data[col].median(), inplace=True)\n",
    "\n",
    "# 3.2 Remove duplicate rows\n",
    "Snapdeal_data.drop_duplicates(inplace=True)\n",
    "\n",
    "# 3.3 Correct data types (example: InvoiceDate to datetime, CustomerID to string)\n",
    "if \"InvoiceDate\" in Snapdeal_data.columns:\n",
    "    Snapdeal_data[\"InvoiceDate\"] = pd.to_datetime(Snapdeal_data[\"InvoiceDate\"], errors=\"coerce\")\n",
    "\n",
    "if \"CustomerID\" in Snapdeal_data.columns:\n",
    "    Snapdeal_data[\"CustomerID\"] = Snapdeal_data[\"CustomerID\"].astype(str)\n",
    "\n",
    "print(\"\\n✅ Cleaning Done. Updated Info:\")\n",
    "print(Snapdeal_data.info())"
   ]
  },
  {
   "cell_type": "markdown",
   "id": "8d6a30d2-f31a-4829-b8e8-96328e55f62c",
   "metadata": {},
   "source": [
    "## Transform the Data"
   ]
  },
  {
   "cell_type": "code",
   "execution_count": 82,
   "id": "db8352a0-6357-4bcb-be43-6142adb9c827",
   "metadata": {},
   "outputs": [
    {
     "name": "stdout",
     "output_type": "stream",
     "text": [
      "\n",
      "✅ Transformation Done. Sample Data:\n",
      "   InvoiceNo  StockCode  Description  Quantity         InvoiceDate  UnitPrice  \\\n",
      "0          0       3536         3918 -0.016520 2010-01-12 08:26:00  -0.021419   \n",
      "1          0       2794         3926 -0.016520 2010-01-12 08:26:00  -0.012780   \n",
      "2          0       3044          913 -0.007393 2010-01-12 08:26:00  -0.019362   \n",
      "3          0       2985         1910 -0.016520 2010-01-12 08:26:00  -0.012780   \n",
      "4          0       2984         2911 -0.016520 2010-01-12 08:26:00  -0.012780   \n",
      "\n",
      "   CustomerID  Country  \n",
      "0        4048       36  \n",
      "1        4048       36  \n",
      "2        4048       36  \n",
      "3        4048       36  \n",
      "4        4048       36  \n"
     ]
    }
   ],
   "source": [
    "##Transform the Data\n",
    "# ------------------------------------------\n",
    "\n",
    "# Normalize/Standardize numerical data\n",
    "num_cols = Snapdeal_data.select_dtypes(include=[np.number]).columns\n",
    "scaler = StandardScaler()\n",
    "Snapdeal_data[num_cols] = scaler.fit_transform(Snapdeal_data[num_cols])\n",
    "\n",
    "# Encode categorical variables\n",
    "cat_cols = Snapdeal_data.select_dtypes(include=[\"object\"]).columns\n",
    "le = LabelEncoder()\n",
    "for col in cat_cols:\n",
    "    Snapdeal_data[col] = le.fit_transform(Snapdeal_data[col].astype(str))\n",
    "\n",
    "print(\"\\n✅ Transformation Done. Sample Data:\")\n",
    "print(Snapdeal_data.head())\n"
   ]
  },
  {
   "cell_type": "markdown",
   "id": "d396ff63-7815-491e-888c-675f7cf84ea7",
   "metadata": {},
   "source": [
    "## Feature Engineering"
   ]
  },
  {
   "cell_type": "code",
   "execution_count": 84,
   "id": "5aa923b8-ec3d-42e6-91e2-4b844f17394b",
   "metadata": {},
   "outputs": [
    {
     "name": "stdout",
     "output_type": "stream",
     "text": [
      "\n",
      "✅ Feature Engineering Done. Final Dataset Preview:\n",
      "   StockCode  Description  Quantity         InvoiceDate  UnitPrice  \\\n",
      "0       3536         3918 -0.016520 2010-01-12 08:26:00  -0.021419   \n",
      "1       2794         3926 -0.016520 2010-01-12 08:26:00  -0.012780   \n",
      "2       3044          913 -0.007393 2010-01-12 08:26:00  -0.019362   \n",
      "3       2985         1910 -0.016520 2010-01-12 08:26:00  -0.012780   \n",
      "4       2984         2911 -0.016520 2010-01-12 08:26:00  -0.012780   \n",
      "\n",
      "   CustomerID  Country  TotalPrice  \n",
      "0        4048       36    0.000354  \n",
      "1        4048       36    0.000211  \n",
      "2        4048       36    0.000143  \n",
      "3        4048       36    0.000211  \n",
      "4        4048       36    0.000211  \n",
      "\n",
      "💾 Cleaned data saved as 'Cleaned_Online_Retail.csv'\n"
     ]
    }
   ],
   "source": [
    "# Feature Engineering\n",
    "# ------------------------------------------\n",
    "\n",
    "# Create new features (example: total price = Quantity * UnitPrice)\n",
    "if \"Quantity\" in Snapdeal_data.columns and \"UnitPrice\" in Snapdeal_data.columns:\n",
    "    Snapdeal_data[\"TotalPrice\"] = Snapdeal_data[\"Quantity\"] * Snapdeal_data[\"UnitPrice\"]\n",
    "\n",
    "# 5.2 Feature selection (remove less useful columns, example: InvoiceNo)\n",
    "if \"InvoiceNo\" in Snapdeal_data.columns:\n",
    "    Snapdeal_data.drop(columns=[\"InvoiceNo\"], inplace=True)\n",
    "\n",
    "print(\"\\n✅ Feature Engineering Done. Final Dataset Preview:\")\n",
    "print(Snapdeal_data.head())\n",
    "\n",
    "# Save cleaned dataset\n",
    "Snapdeal_data.to_csv(\"Cleaned_Online_Retail.csv\", index=False)\n",
    "print(\"\\n💾 Cleaned data saved as 'Cleaned_Online_Retail.csv'\")"
   ]
  },
  {
   "cell_type": "markdown",
   "id": "4842e256-b939-458f-9ef8-9c9cc27a35a2",
   "metadata": {},
   "source": [
    "## Save the output"
   ]
  },
  {
   "cell_type": "code",
   "execution_count": 94,
   "id": "db5c9d33-5de8-4d13-b6ef-e6a97f2c4bb4",
   "metadata": {},
   "outputs": [
    {
     "name": "stdout",
     "output_type": "stream",
     "text": [
      "✅ Output is saved\n"
     ]
    }
   ],
   "source": [
    "##Save cleaned dataset to the specified path\n",
    "Snapdeal_data.to_csv(\n",
    "    r\"C:\\Users\\DELL\\Documents\\Snapdeal Mentormind\\Cleaned_Online_Retail2.csv\",\n",
    "    index=False\n",
    ")\n",
    "\n",
    "# Print confirmation message\n",
    "print(\"✅ Output is saved\")"
   ]
  },
  {
   "cell_type": "code",
   "execution_count": null,
   "id": "f795fba1-038a-4278-84be-40e01b152830",
   "metadata": {},
   "outputs": [],
   "source": []
  }
 ],
 "metadata": {
  "kernelspec": {
   "display_name": "Python [conda env:base] *",
   "language": "python",
   "name": "conda-base-py"
  },
  "language_info": {
   "codemirror_mode": {
    "name": "ipython",
    "version": 3
   },
   "file_extension": ".py",
   "mimetype": "text/x-python",
   "name": "python",
   "nbconvert_exporter": "python",
   "pygments_lexer": "ipython3",
   "version": "3.12.7"
  }
 },
 "nbformat": 4,
 "nbformat_minor": 5
}
