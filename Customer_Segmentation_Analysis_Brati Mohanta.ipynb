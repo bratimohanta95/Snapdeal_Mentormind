{
 "cells": [
  {
   "cell_type": "markdown",
   "id": "9a47831f-a4ea-44bf-8dfa-210ccf385fbf",
   "metadata": {},
   "source": [
    "## Importing Important Libraries"
   ]
  },
  {
   "cell_type": "code",
   "execution_count": 3,
   "id": "6e257907-d280-47bc-ac52-b92666921337",
   "metadata": {},
   "outputs": [],
   "source": [
    "import os\n",
    "import warnings\n",
    "warnings.filterwarnings(\"ignore\")\n",
    "\n",
    "import pandas as pd\n",
    "import numpy as np\n",
    "from datetime import timedelta\n",
    "from sklearn.preprocessing import StandardScaler\n",
    "from sklearn.cluster import KMeans\n",
    "from sklearn.decomposition import PCA\n",
    "import matplotlib.pyplot as plt"
   ]
  },
  {
   "cell_type": "markdown",
   "id": "a7e34441-d8db-40e8-9008-22a5ce834b09",
   "metadata": {},
   "source": [
    "## Taking Inputs and Setting Paths in Local Folder"
   ]
  },
  {
   "cell_type": "code",
   "execution_count": 5,
   "id": "a6f2b28d-af9e-4a1a-a2f7-03b729ca4157",
   "metadata": {},
   "outputs": [],
   "source": [
    "# Please set this to the CSV you have (the Online_Retail file)\n",
    "INPUT_CSV = r\"C:\\Users\\DELL\\Documents\\Snapdeal Mentormind\\Online_Retail.csv\"\n",
    "# Output folder (will be created)\n",
    "OUT_DIR = r\"C:\\Users\\DELL\\Documents\\Snapdeal Mentormind\\segmentation_outputs\"\n",
    "os.makedirs(OUT_DIR, exist_ok=True)\n",
    "\n",
    "# Output file names (inside OUT_DIR)\n",
    "CLEANED_CSV = os.path.join(OUT_DIR, \"Cleaned_Online_Retail_for_KMeans.csv\")\n",
    "CUSTOMER_SEGMENTS_CSV = os.path.join(OUT_DIR, \"Customer_Segments_RFM.csv\")\n",
    "CLUSTER_SUMMARY_CSV = os.path.join(OUT_DIR, \"Cluster_Summary.csv\")\n",
    "ELBOW_PNG = os.path.join(OUT_DIR, \"elbow_wcss.png\")\n",
    "PCA_PNG = os.path.join(OUT_DIR, \"pca_clusters.png\")\n",
    "BOXPLOT_PNG = os.path.join(OUT_DIR, \"boxplots_per_cluster.png\")\n",
    "PROFILE_TXT = os.path.join(OUT_DIR, \"Cluster_Profiles_Summary.txt\")\n",
    "PPTX_PATH = os.path.join(OUT_DIR, \"Snapdeal_Customer_Segmentation_Report.pptx\")\n",
    "BUSINESS_REPORT_MD = os.path.join(OUT_DIR, \"Business_Report.md\")"
   ]
  },
  {
   "cell_type": "markdown",
   "id": "1a087b63-4a23-42ff-92e7-a92a494e1400",
   "metadata": {},
   "source": [
    "## Load the Data"
   ]
  },
  {
   "cell_type": "code",
   "execution_count": 7,
   "id": "651be33b-4b6f-4149-906e-d595778b2ae1",
   "metadata": {},
   "outputs": [
    {
     "name": "stdout",
     "output_type": "stream",
     "text": [
      "Loading dataset: C:\\Users\\DELL\\Documents\\Snapdeal Mentormind\\Online_Retail.csv\n",
      "Initial rows: 541909 columns: 8\n"
     ]
    }
   ],
   "source": [
    "# 1. Load the data (with safe encoding)\n",
    "# ---------------------------\n",
    "print(\"Loading dataset:\", INPUT_CSV)\n",
    "df = pd.read_csv(INPUT_CSV, encoding=\"latin1\")  # latin1 commonly works for retail csvs\n",
    "print(\"Initial rows:\", df.shape[0], \"columns:\", df.shape[1])\n"
   ]
  },
  {
   "cell_type": "markdown",
   "id": "7ae1db07-1976-4283-963a-4cdfc5b4e7da",
   "metadata": {},
   "source": [
    "## Data Cleaning and Feature Creation"
   ]
  },
  {
   "cell_type": "code",
   "execution_count": 77,
   "id": "93db1af3-aca5-444e-b83d-8dd5bc18a141",
   "metadata": {},
   "outputs": [
    {
     "name": "stdout",
     "output_type": "stream",
     "text": [
      "Saved cleaned intermediate CSV -> C:\\Users\\DELL\\Documents\\Snapdeal Mentormind\\segmentation_outputs\\Cleaned_Online_Retail_for_KMeans.csv\n"
     ]
    }
   ],
   "source": [
    "# 2. Basic cleaning and feature creation\n",
    "# ---------------------------\n",
    "# Drop fully empty rows and exact duplicates\n",
    "df.dropna(how=\"all\", inplace=True)\n",
    "df.drop_duplicates(inplace=True)\n",
    "# Parse dates and create revenue if columns exist\n",
    "if \"InvoiceDate\" in df.columns:\n",
    "    df[\"InvoiceDate\"] = pd.to_datetime(df[\"InvoiceDate\"], errors=\"coerce\")\n",
    "if \"Quantity\" in df.columns and \"UnitPrice\" in df.columns:\n",
    "    df[\"TotalPrice\"] = df[\"Quantity\"] * df[\"UnitPrice\"]\n",
    "\n",
    "# Remove canceled invoices (InvoiceNo starts with 'C') and negative values\n",
    "if \"InvoiceNo\" in df.columns:\n",
    "    df = df[~df[\"InvoiceNo\"].astype(str).str.startswith(\"C\", na=False)]\n",
    "if \"Quantity\" in df.columns and \"UnitPrice\" in df.columns:\n",
    "    df = df[(df[\"Quantity\"] > 0) & (df[\"UnitPrice\"] > 0)]\n",
    "\n",
    "# Save cleaned intermediate file\n",
    "df.to_csv(CLEANED_CSV, index=False)\n",
    "print(\"Saved cleaned intermediate CSV ->\", CLEANED_CSV)\n"
   ]
  },
  {
   "cell_type": "markdown",
   "id": "8c1d25a6-43d0-4824-8b37-030c78c50f56",
   "metadata": {},
   "source": [
    "## RFM Feature Building"
   ]
  },
  {
   "cell_type": "code",
   "execution_count": 15,
   "id": "17c55063-6efc-4d59-8dfe-6212cb453a2f",
   "metadata": {},
   "outputs": [
    {
     "name": "stdout",
     "output_type": "stream",
     "text": [
      "Prepared RFM for customers: 4338\n"
     ]
    }
   ],
   "source": [
    "# ---------------------------\n",
    "# 3. Build RFM-like features at customer level\n",
    "# ---------------------------\n",
    "# Make CustomerID string and remove bad values\n",
    "df[\"CustomerID\"] = df[\"CustomerID\"].astype(str).str.strip()\n",
    "df = df[df[\"CustomerID\"].notna() & (df[\"CustomerID\"] != \"\") & (df[\"CustomerID\"].str.lower() != \"nan\")]\n",
    "\n",
    "snapshot_date = df[\"InvoiceDate\"].max() + timedelta(days=1)\n",
    "\n",
    "aggregation = {\n",
    "    \"InvoiceDate\": [\"min\", \"max\", \"nunique\"],\n",
    "    \"TotalPrice\": [\"sum\", \"mean\"],\n",
    "    \"InvoiceNo\": \"nunique\"\n",
    "}\n",
    "cust = df.groupby(\"CustomerID\").agg(aggregation)\n",
    "cust.columns = [\"FirstPurchaseDate\", \"LastPurchaseDate\", \"UniquePurchaseDays\", \"TotalRevenue\", \"AvgOrderValue\", \"NumInvoices\"]\n",
    "cust = cust.reset_index()\n",
    "\n",
    "cust[\"Recency\"] = (snapshot_date - cust[\"LastPurchaseDate\"]).dt.days\n",
    "cust[\"Frequency\"] = cust[\"NumInvoices\"]\n",
    "cust[\"Monetary\"] = cust[\"TotalRevenue\"]\n",
    "\n",
    "rfm = cust[[\"CustomerID\", \"Recency\", \"Frequency\", \"Monetary\", \"AvgOrderValue\"]].copy()\n",
    "\n",
    "# Cap very large outliers at 99th percentile (stabilizes clustering)\n",
    "for col in [\"Monetary\", \"Frequency\"]:\n",
    "    upper = rfm[col].quantile(0.99)\n",
    "    rfm[col] = np.where(rfm[col] > upper, upper, rfm[col])\n",
    "\n",
    "print(\"Prepared RFM for customers:\", rfm.shape[0])\n"
   ]
  },
  {
   "cell_type": "markdown",
   "id": "50223875-b25e-40c3-bc6e-57474ddd9a57",
   "metadata": {},
   "source": [
    "## Standardize Numeric Feature"
   ]
  },
  {
   "cell_type": "code",
   "execution_count": 21,
   "id": "9f3c6d1a-7b1e-49ea-854b-1a55fdfc467e",
   "metadata": {},
   "outputs": [],
   "source": [
    "# ---------------------------\n",
    "# 4. Standardize numeric features (after handling NaNs)\n",
    "# ---------------------------\n",
    "features = [\"Recency\", \"Frequency\", \"Monetary\", \"AvgOrderValue\"]\n",
    "\n",
    "# Handle missing values before clustering\n",
    "rfm[features] = rfm[features].fillna({\n",
    "    \"Recency\": rfm[\"Recency\"].median(),\n",
    "    \"Frequency\": 0,\n",
    "    \"Monetary\": 0,\n",
    "    \"AvgOrderValue\": 0\n",
    "})\n",
    "\n",
    "# Alternatively: drop rows with any remaining NaNs\n",
    "rfm = rfm.dropna(subset=features)\n",
    "\n",
    "X = rfm[features].values\n",
    "scaler = StandardScaler()\n",
    "X_scaled = scaler.fit_transform(X)\n"
   ]
  },
  {
   "cell_type": "markdown",
   "id": "c2c826e5-f024-48c3-b25a-1af1afa90573",
   "metadata": {},
   "source": [
    "## Elbow Method Using"
   ]
  },
  {
   "cell_type": "code",
   "execution_count": 63,
   "id": "1b810d97-8a96-43da-864b-5a0b05253a4f",
   "metadata": {},
   "outputs": [
    {
     "name": "stdout",
     "output_type": "stream",
     "text": [
      "Computed WCSS for k=1: 4121.50\n",
      "Computed WCSS for k=2: 2371.35\n",
      "Computed WCSS for k=3: 1582.09\n",
      "Computed WCSS for k=4: 1176.56\n",
      "Computed WCSS for k=5: 953.42\n",
      "Computed WCSS for k=6: 762.64\n",
      "💾 Saved Elbow plot -> C:\\Users\\DELL\\Documents\\Snapdeal Mentormind\\segmentation_outputs\\elbow_wcss.png\n"
     ]
    }
   ],
   "source": [
    "# ====================================================\n",
    "# STEP 5: Determine Optimal k using Elbow Method\n",
    "# ====================================================\n",
    "\n",
    "from sklearn.cluster import KMeans\n",
    "import matplotlib.pyplot as plt\n",
    "\n",
    "K_MAX = 6  # Maximum number of clusters to check\n",
    "sample_size = min(1200, len(rfm))  # sample if dataset is large\n",
    "\n",
    "# Select rows for elbow computation\n",
    "if sample_size < len(rfm):\n",
    "    sample_idx = rfm.sample(n=sample_size, random_state=42).index\n",
    "    X_for_elbow = X_scaled[sample_idx]\n",
    "else:\n",
    "    X_for_elbow = X_scaled\n",
    "\n",
    "# Compute WCSS for k=1 to K_MAX\n",
    "wcss = []\n",
    "for k in range(1, K_MAX+1):\n",
    "    km = KMeans(n_clusters=k, random_state=42, n_init=10)\n",
    "    km.fit(X_for_elbow)\n",
    "    wcss.append(km.inertia_)\n",
    "    print(f\"Computed WCSS for k={k}: {km.inertia_:.2f}\")\n",
    "\n",
    "# -----------------------------\n",
    "# Elbow plot\n",
    "# -----------------------------\n",
    "k_values = list(range(1, len(wcss)+1))  # x-axis matches WCSS length\n",
    "plt.figure(figsize=(6, 4))\n",
    "plt.plot(k_values, wcss, marker='o')\n",
    "plt.xlabel(\"Number of clusters (k)\")\n",
    "plt.ylabel(\"WCSS\")\n",
    "plt.title(\"Elbow Method for Optimal k\")\n",
    "plt.grid(True)\n",
    "plt.tight_layout()\n",
    "plt.savefig(ELBOW_PNG, dpi=150)\n",
    "plt.close()\n",
    "print(f\"💾 Saved Elbow plot -> {ELBOW_PNG}\")\n",
    "\n",
    "# Optional: manually choose k_opt from the plot\n",
    "# k_opt = 3  # Example\n"
   ]
  },
  {
   "cell_type": "markdown",
   "id": "54789810-8566-4c57-9f63-992a4e1cb060",
   "metadata": {},
   "source": [
    "## Using K Means Clustering and Save Results"
   ]
  },
  {
   "cell_type": "code",
   "execution_count": 65,
   "id": "e5c60639-0cf4-4a50-8214-62e044b20055",
   "metadata": {},
   "outputs": [
    {
     "name": "stdout",
     "output_type": "stream",
     "text": [
      "\n",
      "✅ K-Means clustering done with 3 clusters.\n",
      "  CustomerID  Recency  Frequency    Monetary  AvgOrderValue  Cluster\n",
      "0    12346.0    125.0        1.0  19780.4878   77183.600000        2\n",
      "1    12347.0     96.0        7.0   4310.0000      23.681319        0\n",
      "2    12348.0    221.0        4.0   1797.2400      57.975484        0\n",
      "3    12349.0    125.0        1.0   1757.5500      24.076027        0\n",
      "4    12350.0    312.0        1.0    334.4000      19.670588        0\n",
      "💾 Saved clustered RFM dataset -> C:\\Users\\DELL\\Documents\\Snapdeal Mentormind\\segmentation_outputs\\Customer_Segments_RFM.csv\n",
      "💾 Saved cluster summary -> C:\\Users\\DELL\\Documents\\Snapdeal Mentormind\\segmentation_outputs\\Cluster_Summary.csv\n"
     ]
    }
   ],
   "source": [
    "# ====================================================\n",
    "# STEP 6: Run K-Means Clustering and Save Results\n",
    "# ====================================================\n",
    "\n",
    "from sklearn.cluster import KMeans\n",
    "\n",
    "# Set the optimal number of clusters (you can choose based on Elbow from Step 5)\n",
    "k_opt = 3  # Example, replace with your chosen k\n",
    "\n",
    "# 1️⃣ Run K-Means clustering\n",
    "kmeans = KMeans(n_clusters=k_opt, random_state=42, n_init=10)\n",
    "clusters = kmeans.fit_predict(X_scaled)\n",
    "\n",
    "# 2️⃣ Add cluster labels to the RFM dataframe\n",
    "rfm[\"Cluster\"] = clusters\n",
    "\n",
    "print(f\"\\n✅ K-Means clustering done with {k_opt} clusters.\")\n",
    "print(rfm.head())\n",
    "\n",
    "# 3️⃣ Save the clustered RFM data\n",
    "rfm.to_csv(CUSTOMER_SEGMENTS_CSV, index=False)\n",
    "print(f\"💾 Saved clustered RFM dataset -> {CUSTOMER_SEGMENTS_CSV}\")\n",
    "\n",
    "# 4️⃣ Generate a summary of clusters (mean/median per cluster)\n",
    "cluster_summary = rfm.groupby(\"Cluster\")[features].agg([\"mean\", \"median\", \"count\"]).reset_index()\n",
    "cluster_summary.to_csv(CLUSTER_SUMMARY_CSV, index=False)\n",
    "print(f\"💾 Saved cluster summary -> {CLUSTER_SUMMARY_CSV}\")\n"
   ]
  },
  {
   "cell_type": "markdown",
   "id": "1761694a-6b59-4167-bac7-c88c4382dbac",
   "metadata": {},
   "source": [
    "## Visualize Clusters and Save the Plots"
   ]
  },
  {
   "cell_type": "code",
   "execution_count": 67,
   "id": "2873a3a1-67c7-4065-a637-94f9f516e1ea",
   "metadata": {},
   "outputs": [
    {
     "name": "stdout",
     "output_type": "stream",
     "text": [
      "💾 Saved PCA cluster plot -> C:\\Users\\DELL\\Documents\\Snapdeal Mentormind\\segmentation_outputs\\pca_clusters.png\n",
      "💾 Saved boxplots per cluster -> C:\\Users\\DELL\\Documents\\Snapdeal Mentormind\\segmentation_outputs\\boxplots_per_cluster.png\n"
     ]
    }
   ],
   "source": [
    "# ====================================================\n",
    "# STEP 7: Visualize Clusters and Save Plots\n",
    "# ====================================================\n",
    "\n",
    "import matplotlib.pyplot as plt\n",
    "import seaborn as sns\n",
    "from sklearn.decomposition import PCA\n",
    "\n",
    "# -----------------------------\n",
    "# 1️⃣ PCA 2D cluster visualization\n",
    "# -----------------------------\n",
    "pca = PCA(n_components=2, random_state=42)\n",
    "X_pca = pca.fit_transform(X_scaled)\n",
    "\n",
    "plt.figure(figsize=(7, 5))\n",
    "sns.scatterplot(\n",
    "    x=X_pca[:, 0],\n",
    "    y=X_pca[:, 1],\n",
    "    hue=rfm[\"Cluster\"],\n",
    "    palette=\"Set2\",\n",
    "    s=50,\n",
    "    alpha=0.7\n",
    ")\n",
    "plt.title(\"Customer Clusters (PCA 2D)\")\n",
    "plt.xlabel(\"PCA Component 1\")\n",
    "plt.ylabel(\"PCA Component 2\")\n",
    "plt.legend(title=\"Cluster\", loc=\"best\")\n",
    "plt.tight_layout()\n",
    "plt.savefig(PCA_PNG, dpi=150)\n",
    "plt.close()\n",
    "print(f\"💾 Saved PCA cluster plot -> {PCA_PNG}\")\n",
    "\n",
    "# -----------------------------\n",
    "# 2️⃣ Boxplots per cluster for RFM features\n",
    "# -----------------------------\n",
    "# Melt dataframe to long format for seaborn\n",
    "rfm_melted = rfm.melt(\n",
    "    id_vars=\"Cluster\",\n",
    "    value_vars=features,  # [\"Recency\", \"Frequency\", \"Monetary\", \"AvgOrderValue\"]\n",
    "    var_name=\"Feature\",\n",
    "    value_name=\"Value\"\n",
    ")\n",
    "\n",
    "plt.figure(figsize=(12, 6))\n",
    "sns.boxplot(\n",
    "    x=\"Feature\",\n",
    "    y=\"Value\",\n",
    "    hue=\"Cluster\",\n",
    "    data=rfm_melted,\n",
    "    palette=\"Set2\"\n",
    ")\n",
    "plt.title(\"Boxplots of RFM Features per Cluster\")\n",
    "plt.tight_layout()\n",
    "plt.savefig(BOXPLOT_PNG, dpi=150)\n",
    "plt.close()\n",
    "print(f\"💾 Saved boxplots per cluster -> {BOXPLOT_PNG}\")\n"
   ]
  },
  {
   "cell_type": "markdown",
   "id": "c5c4afd5-f573-4c11-8f75-72a6a9c14e1d",
   "metadata": {},
   "source": [
    "## Summary Stats"
   ]
  },
  {
   "cell_type": "code",
   "execution_count": 69,
   "id": "ab124cfa-c3b7-44bc-ab02-c9ecb51201d9",
   "metadata": {},
   "outputs": [
    {
     "name": "stdout",
     "output_type": "stream",
     "text": [
      "💾 Saved cluster summary CSV -> C:\\Users\\DELL\\Documents\\Snapdeal Mentormind\\segmentation_outputs\\Cluster_Summary.csv\n",
      "💾 Saved boxplots -> C:\\Users\\DELL\\Documents\\Snapdeal Mentormind\\segmentation_outputs\\boxplots_per_cluster.png\n"
     ]
    }
   ],
   "source": [
    "# ====================================================\n",
    "# STEP 8: Cluster Summary Stats and Boxplots\n",
    "# ====================================================\n",
    "\n",
    "import matplotlib.pyplot as plt\n",
    "\n",
    "# -----------------------------\n",
    "# 1️⃣ Cluster summary stats (count, mean, median, std)\n",
    "# -----------------------------\n",
    "cluster_summary = rfm.groupby(\"Cluster\")[features].agg([\"count\", \"mean\", \"median\", \"std\"]).round(2)\n",
    "\n",
    "# Flatten multi-level columns\n",
    "cluster_summary_flat = cluster_summary.copy()\n",
    "cluster_summary_flat.columns = ['_'.join(col).strip() for col in cluster_summary_flat.columns.values]\n",
    "cluster_summary_flat = cluster_summary_flat.reset_index()\n",
    "\n",
    "# Save to CSV\n",
    "cluster_summary_flat.to_csv(CLUSTER_SUMMARY_CSV, index=False)\n",
    "print(f\"💾 Saved cluster summary CSV -> {CLUSTER_SUMMARY_CSV}\")\n",
    "\n",
    "# -----------------------------\n",
    "# 2️⃣ Boxplots comparing features across clusters\n",
    "# -----------------------------\n",
    "fig, axes = plt.subplots(2, 2, figsize=(12, 9))\n",
    "axes = axes.flatten()\n",
    "\n",
    "for i, feat in enumerate(features):\n",
    "    # Collect data per cluster\n",
    "    data_to_plot = [rfm[rfm[\"Cluster\"] == c][feat] for c in sorted(rfm[\"Cluster\"].unique())]\n",
    "    axes[i].boxplot(data_to_plot, labels=[f\"C{c}\" for c in sorted(rfm[\"Cluster\"].unique())])\n",
    "    axes[i].set_title(feat)\n",
    "    axes[i].set_ylabel(feat)\n",
    "\n",
    "plt.suptitle(\"Boxplots of RFM Features per Cluster\", fontsize=16)\n",
    "plt.tight_layout(rect=[0, 0, 1, 0.96])  # Adjust for suptitle\n",
    "\n",
    "# Save boxplot figure\n",
    "plt.savefig(BOXPLOT_PNG, bbox_inches='tight', dpi=150)\n",
    "plt.close()\n",
    "print(f\"💾 Saved boxplots -> {BOXPLOT_PNG}\")\n"
   ]
  },
  {
   "cell_type": "markdown",
   "id": "196accf7-c131-462a-a0f1-931e70af53e8",
   "metadata": {},
   "source": [
    "## Business Report"
   ]
  },
  {
   "cell_type": "code",
   "execution_count": 71,
   "id": "00dd1469-2e40-49ce-afc5-3cdf0831b203",
   "metadata": {},
   "outputs": [
    {
     "name": "stdout",
     "output_type": "stream",
     "text": [
      "💾 Saved cluster profile text -> C:\\Users\\DELL\\Documents\\Snapdeal Mentormind\\segmentation_outputs\\Cluster_Profiles_Summary.txt\n",
      "💾 Saved business report (Markdown) -> C:\\Users\\DELL\\Documents\\Snapdeal Mentormind\\segmentation_outputs\\Business_Report.md\n"
     ]
    }
   ],
   "source": [
    "# ====================================================\n",
    "# STEP 9: Auto-generate Cluster Profile and Business Report\n",
    "# ====================================================\n",
    "\n",
    "# -----------------------------\n",
    "# 1️⃣ Cluster profile (text file)\n",
    "# -----------------------------\n",
    "with open(PROFILE_TXT, \"w\", encoding=\"utf-8\") as f:\n",
    "    f.write(\"Cluster Profiles Summary (auto-generated)\\n\\n\")\n",
    "    f.write(cluster_summary_flat.to_string(index=False))\n",
    "\n",
    "print(f\"💾 Saved cluster profile text -> {PROFILE_TXT}\")\n",
    "\n",
    "# -----------------------------\n",
    "# 2️⃣ Short professional business report (Markdown)\n",
    "# -----------------------------\n",
    "with open(BUSINESS_REPORT_MD, \"w\", encoding=\"utf-8\") as f:\n",
    "    f.write(\"# Customer Segmentation — Business Report\\n\\n\")\n",
    "    f.write(\"**Objective:** Segment customers using RFM features to design targeted actions.\\n\\n\")\n",
    "    \n",
    "    f.write(\"## Key Outputs\\n\")\n",
    "    f.write(f\"- Clusters produced: {cluster_summary_flat.shape[0]}\\n\")\n",
    "    f.write(f\"- Customer segments file: `{os.path.basename(CUSTOMER_SEGMENTS_CSV)}`\\n\")\n",
    "    f.write(f\"- Cluster summary: `{os.path.basename(CLUSTER_SUMMARY_CSV)}`\\n\\n\")\n",
    "    \n",
    "    f.write(\"## Cluster Highlights (auto-extracted)\\n\\n\")\n",
    "    f.write(cluster_summary_flat.to_markdown(index=False))\n",
    "    f.write(\"\\n\\n\")\n",
    "    \n",
    "    f.write(\"## Actionable Recommendations (example)\\n\")\n",
    "    f.write(\"- Reward high-value & frequent customers with loyalty perks to increase LTV.\\n\")\n",
    "    f.write(\"- Re-engage inactive customers (high Recency) with personalized offers.\\n\")\n",
    "    f.write(\"- Cross-sell for customers with low monetary but decent frequency.\\n\\n\")\n",
    "    \n",
    "    f.write(\"## Visuals\\n\")\n",
    "    f.write(f\"- PCA cluster plot: `{os.path.basename(PCA_PNG)}`\\n\")\n",
    "    f.write(f\"- Elbow plot: `{os.path.basename(ELBOW_PNG)}`\\n\")\n",
    "    f.write(f\"- Boxplots per cluster: `{os.path.basename(BOXPLOT_PNG)}`\\n\\n\")\n",
    "\n",
    "print(f\"💾 Saved business report (Markdown) -> {BUSINESS_REPORT_MD}\")\n"
   ]
  },
  {
   "cell_type": "markdown",
   "id": "a6cab183-fdc5-4dc6-8a11-061747dbcf62",
   "metadata": {},
   "source": [
    "## Savin"
   ]
  },
  {
   "cell_type": "code",
   "execution_count": 79,
   "id": "4670336c-d55e-4319-b18e-da4d15e680a5",
   "metadata": {},
   "outputs": [
    {
     "name": "stdout",
     "output_type": "stream",
     "text": [
      "\n",
      "✅ All outputs saved in folder: C:\\Users\\DELL\\Documents\\Snapdeal Mentormind\\segmentation_outputs\n",
      "Files created:\n",
      " - Business_Report.md\n",
      " - Cleaned_Online_Retail_for_KMeans.csv\n",
      " - Cluster_Profiles_Summary.txt\n",
      " - Cluster_Summary.csv\n",
      " - Customer_Segments_RFM.csv\n",
      " - boxplots_per_cluster.png\n",
      " - elbow_wcss.png\n",
      " - pca_clusters.png\n",
      "\n",
      "✅ Output is saved\n"
     ]
    }
   ],
   "source": [
    "\n",
    "# -----------------------------\n",
    "## Saving all the outputs\n",
    "print(\"\\n✅ All outputs saved in folder:\", OUT_DIR)\n",
    "print(\"Files created:\")\n",
    "for fn in sorted(os.listdir(OUT_DIR)):\n",
    "    print(\" -\", fn)\n",
    "print(\"\\n✅ Output is saved\")\n",
    "\n"
   ]
  }
 ],
 "metadata": {
  "kernelspec": {
   "display_name": "Python [conda env:base] *",
   "language": "python",
   "name": "conda-base-py"
  },
  "language_info": {
   "codemirror_mode": {
    "name": "ipython",
    "version": 3
   },
   "file_extension": ".py",
   "mimetype": "text/x-python",
   "name": "python",
   "nbconvert_exporter": "python",
   "pygments_lexer": "ipython3",
   "version": "3.12.7"
  }
 },
 "nbformat": 4,
 "nbformat_minor": 5
}
